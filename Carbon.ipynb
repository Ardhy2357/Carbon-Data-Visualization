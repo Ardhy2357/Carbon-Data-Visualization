{
  "nbformat": 4,
  "nbformat_minor": 0,
  "metadata": {
    "colab": {
      "provenance": [],
      "authorship_tag": "ABX9TyPnZggv0P46tA2+F+o2Qrod",
      "include_colab_link": true
    },
    "kernelspec": {
      "name": "python3",
      "display_name": "Python 3"
    },
    "language_info": {
      "name": "python"
    }
  },
  "cells": [
    {
      "cell_type": "markdown",
      "metadata": {
        "id": "view-in-github",
        "colab_type": "text"
      },
      "source": [
        "<a href=\"https://colab.research.google.com/github/Ardhy2357/Carbon-Data-Visualization/blob/main/Carbon.ipynb\" target=\"_parent\"><img src=\"https://colab.research.google.com/assets/colab-badge.svg\" alt=\"Open In Colab\"/></a>"
      ]
    },
    {
      "cell_type": "markdown",
      "source": [
        "# **SETUP**"
      ],
      "metadata": {
        "id": "52PpBwHcI9Nv"
      }
    },
    {
      "cell_type": "code",
      "execution_count": 8,
      "metadata": {
        "colab": {
          "base_uri": "https://localhost:8080/"
        },
        "id": "rKDDUD9XpR1r",
        "outputId": "8d1349e7-3e60-4337-c426-580905713599"
      },
      "outputs": [
        {
          "output_type": "stream",
          "name": "stdout",
          "text": [
            "Requirement already satisfied: openpyxl in /usr/local/lib/python3.12/dist-packages (3.1.5)\n",
            "Requirement already satisfied: et-xmlfile in /usr/local/lib/python3.12/dist-packages (from openpyxl) (2.0.0)\n",
            "Drive already mounted at /content/drive; to attempt to forcibly remount, call drive.mount(\"/content/drive\", force_remount=True).\n"
          ]
        }
      ],
      "source": [
        "##setup\n",
        "!pip install openpyxl\n",
        "\n",
        "import pandas as pd\n",
        "from google.colab import drive\n",
        "drive.mount('/content/drive')\n"
      ]
    },
    {
      "cell_type": "markdown",
      "source": [
        "# **Load Data**"
      ],
      "metadata": {
        "id": "IGcLEhcBJBs_"
      }
    },
    {
      "cell_type": "code",
      "source": [
        "## Load excel or data\n",
        "rawdata = pd.read_excel(\"/content/drive/MyDrive/Data Vis/mock_carbon_data.xlsx\", sheet_name=\"Activity_Data\")\n",
        "ef = pd.read_excel(\"/content/drive/MyDrive/Data Vis/mock_carbon_data.xlsx\", sheet_name=\"Emission_Factors\")"
      ],
      "metadata": {
        "id": "5Nq61ZqQDHN6"
      },
      "execution_count": null,
      "outputs": []
    },
    {
      "cell_type": "markdown",
      "source": [
        "# **Merge + Guardrail + Sanity Check**"
      ],
      "metadata": {
        "id": "QYhBRABeIwgO"
      }
    },
    {
      "cell_type": "code",
      "source": [
        "## Merge + Guardrail\n",
        "merged = rawdata.merge(ef, on=[\"Source\", \"Unit\"], how=\"left\")\n",
        "merged[\"CO2e_calc (t)\"] = merged[\"Usage\"] * merged[\"Emission_Factor (tCO2/unit)\"]\n",
        "\n",
        "missing = merged[\"Emission_Factor (tCO2/unit)\"].isna().sum()\n",
        "assert missing == 0, f\"Missing emission factors for {missing} rows. Fix Emission_Factors Table.\""
      ],
      "metadata": {
        "id": "kwxqE4YxH7F7"
      },
      "execution_count": null,
      "outputs": []
    },
    {
      "cell_type": "code",
      "source": [
        "## Validation / Sanity Check\n",
        "merged[merged[\"Emission_Factor (tCO2/unit)\"].isna()][[\"Source\",\"Unit\"]].drop_duplicates()\n",
        "merged[\"diff_CO2e\"] =merged[\"CO2e_calc (t)\"] - merged[\"CO2e (t)\"]\n",
        "merged[\"diff_CO2e\"].describe()"
      ],
      "metadata": {
        "id": "b7OuSfGOsHoY",
        "colab": {
          "base_uri": "https://localhost:8080/",
          "height": 335
        },
        "outputId": "b1f88741-5d49-4b91-c103-3e4997252db6"
      },
      "execution_count": 7,
      "outputs": [
        {
          "output_type": "execute_result",
          "data": {
            "text/plain": [
              "count    48.000000\n",
              "mean      0.000102\n",
              "std       0.003120\n",
              "min      -0.004560\n",
              "25%      -0.002475\n",
              "50%       0.000060\n",
              "75%       0.002570\n",
              "max       0.004980\n",
              "Name: diff_CO2e, dtype: float64"
            ],
            "text/html": [
              "<div>\n",
              "<style scoped>\n",
              "    .dataframe tbody tr th:only-of-type {\n",
              "        vertical-align: middle;\n",
              "    }\n",
              "\n",
              "    .dataframe tbody tr th {\n",
              "        vertical-align: top;\n",
              "    }\n",
              "\n",
              "    .dataframe thead th {\n",
              "        text-align: right;\n",
              "    }\n",
              "</style>\n",
              "<table border=\"1\" class=\"dataframe\">\n",
              "  <thead>\n",
              "    <tr style=\"text-align: right;\">\n",
              "      <th></th>\n",
              "      <th>diff_CO2e</th>\n",
              "    </tr>\n",
              "  </thead>\n",
              "  <tbody>\n",
              "    <tr>\n",
              "      <th>count</th>\n",
              "      <td>48.000000</td>\n",
              "    </tr>\n",
              "    <tr>\n",
              "      <th>mean</th>\n",
              "      <td>0.000102</td>\n",
              "    </tr>\n",
              "    <tr>\n",
              "      <th>std</th>\n",
              "      <td>0.003120</td>\n",
              "    </tr>\n",
              "    <tr>\n",
              "      <th>min</th>\n",
              "      <td>-0.004560</td>\n",
              "    </tr>\n",
              "    <tr>\n",
              "      <th>25%</th>\n",
              "      <td>-0.002475</td>\n",
              "    </tr>\n",
              "    <tr>\n",
              "      <th>50%</th>\n",
              "      <td>0.000060</td>\n",
              "    </tr>\n",
              "    <tr>\n",
              "      <th>75%</th>\n",
              "      <td>0.002570</td>\n",
              "    </tr>\n",
              "    <tr>\n",
              "      <th>max</th>\n",
              "      <td>0.004980</td>\n",
              "    </tr>\n",
              "  </tbody>\n",
              "</table>\n",
              "</div><br><label><b>dtype:</b> float64</label>"
            ]
          },
          "metadata": {},
          "execution_count": 7
        }
      ]
    },
    {
      "cell_type": "markdown",
      "source": [
        "# **Clean Dataset & Export**"
      ],
      "metadata": {
        "id": "sbgo9xsvJOCF"
      }
    },
    {
      "cell_type": "code",
      "source": [
        "## clean dataset\n",
        "clean_col = [\"Date\",\"Site/Dept\",\"Source\",\"Usage\",\"Unit\",\"CO2e_calc (t)\"]\n",
        "clean = merged[clean_col].copy().rename(columns={\"CO2e_calc (t)\":\"CO2e (t)\"})"
      ],
      "metadata": {
        "id": "vq6LdEoRIDzx"
      },
      "execution_count": null,
      "outputs": []
    },
    {
      "cell_type": "code",
      "source": [
        "## export data\n",
        "clean.to_csv(\"/content/drive/MyDrive/Data Vis/cleaned_emissions.csv\", index=False)"
      ],
      "metadata": {
        "id": "j-XntcPxIJK2"
      },
      "execution_count": 10,
      "outputs": []
    },
    {
      "cell_type": "markdown",
      "source": [
        "# **DataSet Management**"
      ],
      "metadata": {
        "id": "FfTtEeC-JUia"
      }
    },
    {
      "cell_type": "code",
      "source": [
        "## Aggregation by month\n",
        "monthly = (clean\n",
        "           .assign(Date=pd.to_datetime(clean[\"Date\"]))\n",
        "           .groupby(pd.Grouper(key=\"Date\", freq=\"MS\"))[\"CO2e (t)\"]\n",
        "           .sum()\n",
        "           .reset_index()\n",
        "           .rename(columns={\"Date\":\"Month\"}))"
      ],
      "metadata": {
        "id": "36jWoctPIuVe"
      },
      "execution_count": 11,
      "outputs": []
    },
    {
      "cell_type": "code",
      "source": [
        "## Aggregation by source\n",
        "bysource=(clean\n",
        "          .assign(Date=pd.to_datetime(clean[\"Date\"]))\n",
        "          .groupby([pd.Grouper(key=\"Date\",freq =\"MS\"), \"Source\"]) [\"CO2e (t)\"]\n",
        "          .sum()\n",
        "          .reset_index()\n",
        "          .rename(columns={\"Date\":\"Month\"}))"
      ],
      "metadata": {
        "id": "iBjSk1dJLRzY"
      },
      "execution_count": 13,
      "outputs": []
    }
  ]
}